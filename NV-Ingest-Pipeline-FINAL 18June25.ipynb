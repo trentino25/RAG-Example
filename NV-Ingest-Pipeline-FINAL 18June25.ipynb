{
 "cells": [
  {
   "cell_type": "markdown",
   "id": "overview",
   "metadata": {},
   "source": [
    "# Example NV-INGEST Pipeline\n",
    "\n",
    "## Architecture Overview\n",
    "\n",
    "**Services running locally (Docker containers):**\n",
    "- Redis - Message broker on port 6379\n",
    "- etcd - Metadata storage on port 2379\n",
    "- MinIO - Object storage on ports 9000-9001\n",
    "- Milvus - Vector database on port 19530\n",
    "- NV-Ingest Runtime - Main orchestration service on ports 7670-7671\n",
    "\n",
    "**NVIDIA hosted endpoints:**\n",
    "- PaddleOCR: https://ai.api.nvidia.com/v1/cv/baidu/paddleocr\n",
    "- Page Elements Detection: https://ai.api.nvidia.com/v1/cv/nvidia/nv-yolox-page-elements-v1\n",
    "- Graphic Elements Detection: https://ai.api.nvidia.com/v1/cv/nvidia/nemoretriever-graphic-elements-v1\n",
    "- Table Structure Detection: https://ai.api.nvidia.com/v1/cv/nvidia/nemoretriever-table-structure-v1\n",
    "- NemoRetriever Parse: https://ai.api.nvidia.com/v1/cv/nvidia/nemoretriever-parse\n",
    "- Embeddings: https://integrate.api.nvidia.com/v1 (nvidia/llama-3.2-nv-embedqa-1b-v2)\n",
    "- Vision-Language Model: https://integrate.api.nvidia.com/v1 (meta/llama-3.2-11b-vision-instruct)\n",
    "- Speech-to-Text: https://ai.api.nvidia.com/v1/audio/nvidia/speechtotext"
   ]
  },
  {
   "cell_type": "code",
   "execution_count": 51,
   "id": "imports",
   "metadata": {},
   "outputs": [
    {
     "name": "stdout",
     "output_type": "stream",
     "text": [
      "🎉 NV-Ingest successfully imported in Jupyter!\n",
      "✅ All packages loaded successfully!\n"
     ]
    }
   ],
   "source": [
    "# Import required libraries for timing, client connections, and result processing\n",
    "import os\n",
    "import time\n",
    "from nv_ingest_client.client import Ingestor, NvIngestClient\n",
    "from nv_ingest_api.util.message_brokers.simple_message_broker import SimpleClient\n",
    "from nv_ingest_client.util.process_json_files import ingest_json_results_to_blob\n",
    "from openai import OpenAI\n",
    "from nv_ingest_client.util.milvus import nvingest_retrieval\n",
    "\n",
    "print(\"🎉 NV-Ingest successfully imported in Jupyter!\")\n",
    "print(\"✅ All packages loaded successfully!\")"
   ]
  },
  {
   "cell_type": "code",
   "execution_count": 52,
   "id": "client_setup",
   "metadata": {},
   "outputs": [
    {
     "name": "stdout",
     "output_type": "stream",
     "text": [
      "✅ NV-Ingest client created successfully!\n",
      "🎯 Ready to process documents!\n"
     ]
    }
   ],
   "source": [
    "# Create connection to the NV-Ingest service running in Docker\n",
    "# This connects to the main orchestration service on port 7671\n",
    "# This code uses simple message broker and runs the client locally\n",
    "client = NvIngestClient(\n",
    "    message_client_allocator=SimpleClient,\n",
    "    message_client_port=7671,\n",
    "    message_client_hostname=\"localhost\"\n",
    ")\n",
    "\n",
    "print(\"✅ NV-Ingest client created successfully!\")\n",
    "print(\"🎯 Ready to process documents!\")"
   ]
  },
  {
   "cell_type": "code",
   "execution_count": 53,
   "id": "milvus_config",
   "metadata": {},
   "outputs": [
    {
     "name": "stdout",
     "output_type": "stream",
     "text": [
      "✅ Milvus configuration set:\n",
      "   URI: http://localhost:19530\n",
      "   Collection: nv_ingest_test\n"
     ]
    }
   ],
   "source": [
    "# Configure connection to local Milvus vector database\n",
    "# Milvus runs locally on port 19530\n",
    "milvus_uri = \"http://localhost:19530\"\n",
    "collection_name = \"nv_ingest_test\"\n",
    "\n",
    "print(f\"✅ Milvus configuration set:\")\n",
    "print(f\"   URI: {milvus_uri}\")\n",
    "print(f\"   Collection: {collection_name}\")"
   ]
  },
  {
   "cell_type": "code",
   "execution_count": 54,
   "id": "file_check",
   "metadata": {},
   "outputs": [
    {
     "name": "stdout",
     "output_type": "stream",
     "text": [
      "✅ Sample PDF found: data/pharmacopia-2014.pdf\n",
      "   File size: 3,355,718 bytes\n"
     ]
    }
   ],
   "source": [
    "# Check for sample PDF file\n",
    "sample_file = \"data/pharmacopia-2014.pdf\"\n",
    "if os.path.exists(sample_file):\n",
    "    print(f\"✅ Sample PDF found: {sample_file}\")\n",
    "    print(f\"   File size: {os.path.getsize(sample_file):,} bytes\")\n",
    "else:\n",
    "    print(f\"❌ Sample file not found: {sample_file}\")\n",
    "    # List available files\n",
    "    if os.path.exists(\"data/\"):\n",
    "        print(\"Available files in data/:\")\n",
    "        for file in os.listdir(\"data/\"):\n",
    "            print(f\"  - {file}\")"
   ]
  },
  {
   "cell_type": "code",
   "execution_count": 55,
   "id": "pipeline_setup",
   "metadata": {},
   "outputs": [
    {
     "name": "stdout",
     "output_type": "stream",
     "text": [
      "✅ Pipeline configured successfully!\n",
      "📋 Pipeline stages: File → Extract → Embed → Vector DB Upload\n"
     ]
    }
   ],
   "source": [
    "# Build the processing pipeline using method chaining\n",
    "ingestor = (\n",
    "    Ingestor(client=client)\n",
    "    .files(sample_file)\n",
    "    # EXTRACTION PHASE: Extract different types of content types from the PDF\n",
    "    # Note: For very complex PDFs, use only the text extractor\n",
    "    # Specialized NVIDIA APIs for tables, charts, graphs impose a rate limit \n",
    "    .extract(              \n",
    "        extract_text=True,\n",
    "        extract_tables=False,\n",
    "        extract_charts=False,\n",
    "        extract_images=False,\n",
    "        paddle_output_format=\"markdown\",\n",
    "        extract_infographics=False,\n",
    "        text_depth=\"page\"\n",
    "    )\n",
    "    # EMBEDDING PHASE: Generate vector embeddings for semantic search\n",
    "    .embed()\n",
    "    # STORAGE PHASE: Upload to vector database for retrieval\n",
    "    .vdb_upload(\n",
    "        collection_name=collection_name,\n",
    "        milvus_uri=milvus_uri,\n",
    "        sparse=False,\n",
    "        dense_dim=2048,\n",
    "        recreate=True\n",
    "    )\n",
    ")\n",
    "\n",
    "print(\"✅ Pipeline configured successfully!\")\n",
    "print(\"📋 Pipeline stages: File → Extract → Embed → Vector DB Upload\")"
   ]
  },
  {
   "cell_type": "code",
   "execution_count": 56,
   "id": "pipeline_execution",
   "metadata": {},
   "outputs": [
    {
     "name": "stdout",
     "output_type": "stream",
     "text": [
      "🚀 Testing FULL NV-Ingest pipeline with LOCAL Milvus...\n",
      "Starting full ingestion with vector database upload...\n"
     ]
    },
    {
     "name": "stderr",
     "output_type": "stream",
     "text": [
      "\n",
      "Processing Documents:   0%|                                                                      | 0/1 [00:00<?, ?doc/s]\u001b[A\n",
      "Processing Documents: 100%|██████████████████████████████████████████████████████████████| 1/1 [00:14<00:00, 14.26s/doc]\u001b[A\n"
     ]
    },
    {
     "name": "stdout",
     "output_type": "stream",
     "text": [
      "\n",
      "🎉 SUCCESS!\n",
      "✅ Document processed and uploaded to vector database\n",
      "✅ Vector database collection 'nv_ingest_test' created in Milvus\n",
      "\n",
      "📄 Results summary:\n",
      "Processing time: 4129.53 seconds\n",
      "📊 Processed 1 documents successfully!\n",
      "\n",
      "🔍 Searching in collection 'nv_ingest_test' for: List the options for local anesthetics that can be applied without risk of paralysis or cardiac arrest. Use only the information in the pharmacopia manual\n",
      "✅ Found 3 relevant documents\n",
      "\n",
      "📝 Prompt: Using the following content: 24 ANESTHESIA: Neuromuscular Blockade Reversal Agents\n",
      "BUPIVACAINE LIPOSOME ( EXPAREL ) � L – ♀ C \n",
      "� – $$$$$ \n",
      " ADULT – Bunionectomy : Infi ltrate 7 mL of \n",
      "EXPAREL into ...\n",
      "\n",
      "🤖 Answer: Based on the provided pharmacopia manual, here are the local anesthetic options that can be applied without a specific warning of risk for **paralysis** or **cardiac arrest** (note that all medications carry some level of risk, but the listed options below do not have explicit warnings for paralysis or cardiac arrest as seen in Ropivacaine's entry):\n",
      "\n",
      "### Local Anesthetics Without Explicit Warnings for Paralysis or Cardiac Arrest:\n",
      "\n",
      "1. **LIDOCAINE—LOCAL ANESTHETIC (Xylocaine)**\n",
      "   - **Forms:** 0.5, 1, 1.5, 2%. With epi: 0.5, 1, 1.5, 2%.\n",
      "   - **Notes:** Onset within 2 min, duration 30 to 60 min (longer with epi). Amide group. Potentially toxic dose 3 to 5 mg/kg without epinephrine, and 5 to 7 mg/kg with epinephrine.\n",
      "\n",
      "2. **MEPIVACAINE (Carbocaine, Polocaine)**\n",
      "   - **Forms:** 1, 1.5, 2, 3%.\n",
      "   - **Notes:** Onset 3 to 5 min, duration 45 to 90 min. Amide group. Max local dose 5 to 6 mg/kg.\n",
      "\n",
      "3. **PRILOCAINE (Citanest)**\n",
      "   - **Forms:** 4%, 4% with epinephrine.\n",
      "   - **Notes:** Contraindicated if younger than 6 to 9 mo. If younger than 5 yo, maximum local dose is 3 to 4 mg/kg (with or without epinephrine). If 5 yo or older, maximum local dose is 5 mg/kg without epinephrine and 7 mg/kg with epinephrine.\n",
      "\n",
      "4. **ORAQIX (prilocaine + lidocaine—local anesthetic)**\n",
      "   - **Forms:** Gel 2.5% + 2.5% with applicator.\n",
      "   - **Notes:** Do not exceed maximum dose for lidocaine or prilocaine. (Implicitly, follow individual component guidelines for safety.)\n",
      "\n",
      "5. **BUPIVACAINE LIPOSOME (EXPAREL)**\n",
      "   - **Forms:** 10 and 20 mL single-use vial, 1.3% (13.3 mg/mL).\n",
      "   - **Notes:** Dosing forms do not have pharmacologic bioequivalence to plain bupivacaine. **Caution advised with its use but no explicit warning for paralysis or cardiac arrest is listed in this excerpt.**\n",
      "\n",
      "6. **CHLOROPROCAINE (Nesacaine)**\n",
      "   - **Forms:** 1, 2, 3%.\n",
      "   - **Notes:** Maximum local dose: 11 mg/kg.\n",
      "\n",
      "7. **PROCAINE (Novocain)**\n",
      "   - **Forms:** 1, 2, 10%.\n",
      "   - No specific warnings for paralysis or cardiac arrest are listed in the provided text for these medications, but as with all anesthetics, caution and adherence to dosing guidelines are crucial.\n",
      "\n",
      "**Always Consult a Medical Professional:**\n",
      "- These listings are based on the absence of explicit warnings within the provided text. It is **crucial** to consult a medical professional or refer to the most current, comprehensive prescribing information for each medication before administration, as individual patient factors, interactions, and the latest safety data must be considered.\n"
     ]
    }
   ],
   "source": [
    "# EXECUTE THE NV-INGEST PIPELINE\n",
    "# The first line (from Alex's requirements) orchestrates the workflow:\n",
    "# 1. Sends PDF to NV-Ingest service (localhost:7670)\n",
    "# 2. NV-Ingest calls NVIDIA endpoints for AI processing:\n",
    "#    - PaddleOCR for table extraction\n",
    "#    - Page/Graphic elements detection for layout analysis  \n",
    "#    - Vision-language model for image understanding\n",
    "#    - Embedding model for vector generation\n",
    "# 3. Results are aggregated and returned\n",
    "# 4. Embeddings are uploaded to local Milvus database\n",
    "# 5. Progress bar shows real-time status\n",
    "\n",
    "print(\"🚀 Testing FULL NV-Ingest pipeline with LOCAL Milvus...\")\n",
    "print(\"Starting full ingestion with vector database upload...\")\n",
    "#t0 = time.time()\n",
    "\n",
    "try:\n",
    "    results = ingestor.ingest(show_progress=True)\n",
    "    \n",
    "    t1 = time.time()\n",
    "    \n",
    "    # Let user know if processing successfully completes\n",
    "    if results:\n",
    "        print(f\"\\n🎉 SUCCESS!\")\n",
    "        print(f\"✅ Document processed and uploaded to vector database\")\n",
    "        print(f\"✅ Vector database collection '{collection_name}' created in Milvus\")\n",
    "        \n",
    "        # Show a quick summary\n",
    "        print(f\"\\n📄 Results summary:\")\n",
    "        full_results = ingest_json_results_to_blob(results[0])\n",
    "        print(f\"Processing time: {t1-t0:.2f} seconds\")\n",
    "        print(f\"📊 Processed {len(results)} documents successfully!\")\n",
    "\n",
    "        \n",
    "# QUERY AND RETRIEVAL: This code allows the user to send a natural language query to the system and receive a response based on the ingested content\n",
    "# Set up configuration to access the Milvus Vector DB which is locally hosted\n",
    "        sparse = False\n",
    "        \n",
    "        # Example query - Search for something in the Pharmacopia manual provided by the customer\n",
    "        queries = [\"List the options for local anesthetics that can be applied without risk of paralysis or cardiac arrest. Use only the information in the pharmacopia manual\"] \n",
    "        \n",
    "        print(f\"\\n🔍 Searching in collection '{collection_name}' for: {queries[0]}\")\n",
    "        \n",
    "        try:\n",
    "            # Query the vector database\n",
    "            retrieved_docs = nvingest_retrieval(\n",
    "                queries,\n",
    "                collection_name,\n",
    "                milvus_uri=milvus_uri,\n",
    "                hybrid=sparse,\n",
    "                top_k=3,  # Get top 3 results\n",
    "            )\n",
    "            \n",
    "            print(f\"✅ Found {len(retrieved_docs[0])} relevant documents\")\n",
    "            \n",
    "            # Extract the most relevant content\n",
    "            extract = retrieved_docs[0][0][\"entity\"][\"text\"]\n",
    "            \n",
    "            # Create OpenAI client for NVIDIA endpoints\n",
    "            openai_client = OpenAI(\n",
    "                base_url=\"https://integrate.api.nvidia.com/v1\",\n",
    "                api_key=os.environ[\"NVIDIA_BUILD_API_KEY\"]\n",
    "            )\n",
    "            \n",
    "            # Create prompt for the LLM\n",
    "            prompt = f\"Using the following content: {extract}\\n\\n Answer the user query: {queries[0]}\"\n",
    "            print(f\"\\n📝 Prompt: {prompt[:200]}...\")\n",
    "            \n",
    "            # Get response from NVIDIA LLM\n",
    "            completion = openai_client.chat.completions.create(\n",
    "                model=\"nvidia/llama-3.1-nemotron-70b-instruct\",\n",
    "                messages=[{\"role\": \"user\", \"content\": prompt}],\n",
    "            )\n",
    "            \n",
    "            response = completion.choices[0].message.content\n",
    "            print(f\"\\n🤖 Answer: {response}\")\n",
    "            \n",
    "        except Exception as e:\n",
    "            print(f\"❌ Error during retrieval: {e}\")\n",
    "            print(f\"\\n🔧 Troubleshooting:\")\n",
    "            print(f\"1. Make sure you have data in the collection '{collection_name}'\")\n",
    "            print(f\"2. Check if Milvus is running: docker ps | grep milvus\")\n",
    "            print(f\"3. Verify collection exists in Milvus\")\n",
    "            \n",
    "            # Check if collection exists\n",
    "            try:\n",
    "                from pymilvus import MilvusClient\n",
    "                milvus_client = MilvusClient(uri=milvus_uri)\n",
    "                collections = milvus_client.list_collections()\n",
    "                print(f\"📊 Available collections: {collections}\")\n",
    "                if collection_name in collections:\n",
    "                    print(f\"✅ Collection '{collection_name}' exists\")\n",
    "                else:\n",
    "                    print(f\"❌ Collection '{collection_name}' not found\")\n",
    "                    print(f\"💡 You need to run the ingestion pipeline with .vdb_upload() first\")\n",
    "            except Exception as e2:\n",
    "                print(f\"❌ Cannot connect to Milvus: {e2}\")\n",
    "        \n",
    "except Exception as e:\n",
    "    print(f\"❌ FAILED: {str(e)}\")\n",
    "    print(\"🔧 Check that all Docker services are running and accessible\")"
   ]
  },
  {
   "cell_type": "code",
   "execution_count": null,
   "id": "ed0d9b16-3951-4290-8b49-81d5266a9514",
   "metadata": {},
   "outputs": [],
   "source": []
  }
 ],
 "metadata": {
  "kernelspec": {
   "display_name": "Python 3 (ipykernel)",
   "language": "python",
   "name": "python3"
  },
  "language_info": {
   "codemirror_mode": {
    "name": "ipython",
    "version": 3
   },
   "file_extension": ".py",
   "mimetype": "text/x-python",
   "name": "python",
   "nbconvert_exporter": "python",
   "pygments_lexer": "ipython3",
   "version": "3.10.12"
  }
 },
 "nbformat": 4,
 "nbformat_minor": 5
}
